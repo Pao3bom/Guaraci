{
 "cells": [
  {
   "cell_type": "markdown",
   "metadata": {},
   "source": [
    "Bellow you will find a simple exploration of data pertaining to Neglected Tropical Diseases that can be found on Datasus.\n",
    "\n",
    "\n",
    "\\\n",
    "\\\n",
    "Each instance of data for each of the conditions consists of several notifications of the diseases containing information such as the date, location, personal informations etc. The code bellow does two simple actions: \n",
    "- Firstly, it organizes the information pertaining to the columns that point to a Federative Unit (UF). Every file originated from 2006 and before has that information as the acronym of the state, however every file from 2007-Present refers to it by a code and so a dictionary was applied to translate the code to the acronym.\n",
    "\n",
    "- Secondly, it counts the number of ocorrences of each condition per month, grouping them by Year of Notification and Federative Unit."
   ]
  },
  {
   "cell_type": "markdown",
   "metadata": {},
   "source": [
    "### Setup"
   ]
  },
  {
   "cell_type": "code",
   "execution_count": null,
   "metadata": {},
   "outputs": [],
   "source": [
    "import os\n",
    "import pandas as pd\n",
    "import numpy as np\n",
    "from collections import defaultdict"
   ]
  },
  {
   "cell_type": "code",
   "execution_count": null,
   "metadata": {},
   "outputs": [],
   "source": [
    "path = '../../data/Datasus'\n",
    "\n",
    "uf_dict = defaultdict(lambda: 'Invalid')\n",
    "\n",
    "uf_dict[11] = 'RO'\t\n",
    "uf_dict[12] = 'AC'\t\n",
    "uf_dict[13] = 'AM'\t\n",
    "uf_dict[14] = 'RR'\t\n",
    "uf_dict[15] = 'PA'\t\n",
    "uf_dict[16] = 'AP'\t\n",
    "uf_dict[17] = 'TO'\t\n",
    "uf_dict[21] = 'MA'\t\n",
    "uf_dict[22] = 'PI'\t\n",
    "uf_dict[23] = 'CE'\t\n",
    "uf_dict[24] = 'RN'\t\n",
    "uf_dict[25] = 'PB'\t\n",
    "uf_dict[26] = 'PE'\t\n",
    "uf_dict[27] = 'AL'\t\n",
    "uf_dict[28] = 'SE'\t\n",
    "uf_dict[29] = 'BA'\t\n",
    "uf_dict[31] = 'MG'\t\n",
    "uf_dict[32] = 'ES'\t\n",
    "uf_dict[33] = 'RJ'\t\n",
    "uf_dict[35] = 'SP'\t\n",
    "uf_dict[41] = 'PR'\t\n",
    "uf_dict[42] = 'SC'\t\n",
    "uf_dict[43] = 'RS'\t\n",
    "uf_dict[50] = 'MS'\t\n",
    "uf_dict[51] = 'MT'\t\n",
    "uf_dict[52] = 'GO'\t\n",
    "uf_dict[53] = 'DF'"
   ]
  },
  {
   "cell_type": "code",
   "execution_count": null,
   "metadata": {},
   "outputs": [],
   "source": [
    "files_list = list(os.listdir(path))\n",
    "\n",
    "files_dict = defaultdict(list)\n",
    "\n",
    "for file in files_list:\n",
    "    if 'ANIMBR' in file: files_dict['ANIMBR'].append(file)\n",
    "    elif 'CHAGBR' in file: files_dict['CHAGBR'].append(file)\n",
    "    elif 'CHIKBR' in file: files_dict['CHIKBR'].append(file)\n",
    "    elif 'DENGBR' in file: files_dict['DENGBR'].append(file)\n",
    "    elif 'ESQUBR' in file: files_dict['ESQUBR'].append(file)\n",
    "    elif 'HANSBR' in file: files_dict['HANSBR'].append(file)\n",
    "    elif 'LEIVBR' in file: files_dict['LEIVBR'].append(file)\n",
    "    elif 'LTANBR' in file: files_dict['LTANBR'].append(file)\n",
    "    elif 'RAIVBR' in file: files_dict['RAIVBR'].append(file)\n"
   ]
  },
  {
   "cell_type": "code",
   "execution_count": null,
   "metadata": {},
   "outputs": [],
   "source": [
    "def extract_data(data_list:list, columns:list[str]=['DT_NOTIFIC', 'SG_UF_NOT'], path:str=path, low_memory:bool=False) -> object:\n",
    "    primary_dict = defaultdict(lambda: ['Year', 'State', np.zeros(12, dtype=int), 0])\n",
    "\n",
    "    for file in data_list:\n",
    "        df = pd.read_csv(f'{path}/{file}', encoding='ISO-8859-1', low_memory=low_memory)\n",
    "        df = df[columns]\n",
    "        \n",
    "        for row in df.to_dict(orient='records'):\n",
    "            if isinstance(row[columns[1]], int|float): row[columns[1]] = uf_dict[row[columns[1]]]\n",
    "\n",
    "            date = row[columns[0]].split('-')\n",
    "            #print(row)\n",
    "            index = date[0] + '-' + row[columns[1]]\n",
    "            primary_dict[index][0] = int(date[0])\n",
    "            primary_dict[index][1] = row[columns[1]]\n",
    "            primary_dict[index][2][int(date[1]) - 1] += 1\n",
    "            primary_dict[index][3] += 1\n",
    "\n",
    "    \n",
    "    main_df = pd.DataFrame.from_dict(primary_dict, orient='index', columns=['Year', 'State', 'Months', 'Total'])\n",
    "\n",
    "    aux_df = pd.DataFrame(main_df['Months'].tolist(), columns=['Jan', 'Feb', 'Mar', 'Apr', 'May', 'Jun', 'Jul', 'Aug', 'Sep', 'Oct', 'Nov', 'Dec'])\n",
    "    aux_df.index = main_df.index\n",
    "    main_df = pd.concat([main_df, aux_df], axis=1)\n",
    "    main_df.drop(columns=['Months'])\n",
    "\n",
    "    organize = ['Year', 'State', 'Jan', 'Feb', 'Mar', 'Apr', 'May', 'Jun', 'Jul', 'Aug', 'Sep', 'Oct', 'Nov', 'Dec', 'Total']\n",
    "    main_df = main_df[organize]\n",
    "\n",
    "    return main_df"
   ]
  },
  {
   "cell_type": "markdown",
   "metadata": {},
   "source": [
    "### Animais Peçonhentos"
   ]
  },
  {
   "cell_type": "code",
   "execution_count": null,
   "metadata": {},
   "outputs": [],
   "source": [
    "df = pd.read_csv(f'{path}/ANIMBR07.csv', encoding='ISO-8859-1')\n",
    "\n",
    "df.columns"
   ]
  },
  {
   "cell_type": "code",
   "execution_count": null,
   "metadata": {},
   "outputs": [],
   "source": [
    "df = extract_data(data_list=files_dict['ANIMBR'])\n",
    "df"
   ]
  },
  {
   "cell_type": "markdown",
   "metadata": {},
   "source": [
    "### Doença de Chagas"
   ]
  },
  {
   "cell_type": "code",
   "execution_count": null,
   "metadata": {},
   "outputs": [],
   "source": [
    "df = pd.read_csv(f'{path}/CHAGBR19.csv', encoding='ISO-8859-1')\n",
    "\n",
    "df.columns"
   ]
  },
  {
   "cell_type": "code",
   "execution_count": null,
   "metadata": {},
   "outputs": [],
   "source": [
    "df = extract_data(data_list=files_dict['CHAGBR'])\n",
    "df"
   ]
  },
  {
   "cell_type": "markdown",
   "metadata": {},
   "source": [
    "### Chikungunya"
   ]
  },
  {
   "cell_type": "code",
   "execution_count": null,
   "metadata": {},
   "outputs": [],
   "source": [
    "df = pd.read_csv(f'{path}/CHIKBR15.csv', encoding='ISO-8859-1')\n",
    "\n",
    "df.columns"
   ]
  },
  {
   "cell_type": "code",
   "execution_count": null,
   "metadata": {},
   "outputs": [],
   "source": [
    "df = extract_data(data_list=files_dict['CHIKBR'])\n",
    "df"
   ]
  },
  {
   "cell_type": "markdown",
   "metadata": {},
   "source": [
    "### Dengue"
   ]
  },
  {
   "cell_type": "code",
   "execution_count": null,
   "metadata": {},
   "outputs": [],
   "source": [
    "df = pd.read_csv(f'{path}/DENGBR00.csv', encoding='ISO-8859-1')\n",
    "\n",
    "list(df.columns)"
   ]
  },
  {
   "cell_type": "code",
   "execution_count": null,
   "metadata": {},
   "outputs": [],
   "source": [
    "df = pd.read_csv(f'{path}/{files_dict['DENGBR'][9]}', encoding='ISO-8859-1')\n",
    "df"
   ]
  },
  {
   "cell_type": "code",
   "execution_count": null,
   "metadata": {},
   "outputs": [],
   "source": [
    "files_dict['DENGBR']"
   ]
  },
  {
   "cell_type": "code",
   "execution_count": null,
   "metadata": {},
   "outputs": [],
   "source": [
    "df = extract_data(data_list=files_dict['DENGBR'][7:8], low_memory=False)\n",
    "df"
   ]
  },
  {
   "cell_type": "markdown",
   "metadata": {},
   "source": [
    "### Esquistossomose"
   ]
  },
  {
   "cell_type": "code",
   "execution_count": null,
   "metadata": {},
   "outputs": [],
   "source": [
    "df = pd.read_csv(f'{path}/ESQUBR07.csv', encoding='ISO-8859-1')\n",
    "\n",
    "df.columns"
   ]
  },
  {
   "cell_type": "code",
   "execution_count": null,
   "metadata": {},
   "outputs": [],
   "source": [
    "df = extract_data(data_list=files_dict['ESQUBR'])\n",
    "df"
   ]
  },
  {
   "cell_type": "markdown",
   "metadata": {},
   "source": [
    "### Hanseníase"
   ]
  },
  {
   "cell_type": "code",
   "execution_count": null,
   "metadata": {},
   "outputs": [],
   "source": [
    "df = pd.read_csv(f'{path}/HANSBR01.csv', encoding='ISO-8859-1')\n",
    "\n",
    "df.columns"
   ]
  },
  {
   "cell_type": "code",
   "execution_count": null,
   "metadata": {},
   "outputs": [],
   "source": [
    "df = extract_data(data_list=files_dict['HANSBR'])\n",
    "df"
   ]
  },
  {
   "cell_type": "markdown",
   "metadata": {},
   "source": [
    "### Leishmaniose Viceral"
   ]
  },
  {
   "cell_type": "code",
   "execution_count": null,
   "metadata": {},
   "outputs": [],
   "source": [
    "df = pd.read_csv(f'{path}/LEIVBR01.csv', encoding='ISO-8859-1')\n",
    "\n",
    "df.columns"
   ]
  },
  {
   "cell_type": "code",
   "execution_count": null,
   "metadata": {},
   "outputs": [],
   "source": [
    "df = extract_data(data_list=files_dict['LEIVBR'])\n",
    "df"
   ]
  },
  {
   "cell_type": "markdown",
   "metadata": {},
   "source": [
    "### Leishmaniose Tegumentar Americana"
   ]
  },
  {
   "cell_type": "code",
   "execution_count": null,
   "metadata": {},
   "outputs": [],
   "source": [
    "df = pd.read_csv(f'{path}/LTANBR01.csv', encoding='ISO-8859-1')\n",
    "\n",
    "df.columns"
   ]
  },
  {
   "cell_type": "code",
   "execution_count": null,
   "metadata": {},
   "outputs": [],
   "source": [
    "df = extract_data(data_list=files_dict['LTANBR'])\n",
    "df"
   ]
  },
  {
   "cell_type": "markdown",
   "metadata": {},
   "source": [
    "### Raiva"
   ]
  },
  {
   "cell_type": "code",
   "execution_count": null,
   "metadata": {},
   "outputs": [],
   "source": [
    "df = pd.read_csv(f'{path}/RAIVBR07.csv', encoding='ISO-8859-1')\n",
    "\n",
    "df.columns"
   ]
  },
  {
   "cell_type": "code",
   "execution_count": null,
   "metadata": {},
   "outputs": [],
   "source": [
    "df = extract_data(data_list=files_dict['RAIVBR'])\n",
    "df"
   ]
  }
 ],
 "metadata": {
  "kernelspec": {
   "display_name": "Python 3",
   "language": "python",
   "name": "python3"
  },
  "language_info": {
   "codemirror_mode": {
    "name": "ipython",
    "version": 3
   },
   "file_extension": ".py",
   "mimetype": "text/x-python",
   "name": "python",
   "nbconvert_exporter": "python",
   "pygments_lexer": "ipython3",
   "version": "3.12.6"
  }
 },
 "nbformat": 4,
 "nbformat_minor": 2
}
